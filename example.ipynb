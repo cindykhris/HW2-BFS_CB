{
 "cells": [
  {
   "attachments": {},
   "cell_type": "markdown",
   "metadata": {},
   "source": [
    "Jupyter Notebook to test the differnt conditions in the Graph class"
   ]
  },
  {
   "cell_type": "code",
   "execution_count": 202,
   "metadata": {},
   "outputs": [
    {
     "name": "stderr",
     "output_type": "stream",
     "text": [
      "UsageError: Cell magic `%%` not found.\n"
     ]
    }
   ],
   "source": [
    "%% autoreload 2\n"
   ]
  },
  {
   "cell_type": "code",
   "execution_count": 218,
   "metadata": {},
   "outputs": [],
   "source": [
    "from search.graph import Graph\n",
    "import pytest"
   ]
  },
  {
   "attachments": {},
   "cell_type": "markdown",
   "metadata": {},
   "source": [
    "# Graph Class\n"
   ]
  },
  {
   "cell_type": "code",
   "execution_count": 219,
   "metadata": {},
   "outputs": [
    {
     "name": "stdout",
     "output_type": "stream",
     "text": [
      "DiGraph with 11 nodes and 10 edges\n"
     ]
    },
    {
     "data": {
      "text/plain": [
       "['2', '5', '5', '9', '9', '11']"
      ]
     },
     "execution_count": 219,
     "metadata": {},
     "output_type": "execute_result"
    }
   ],
   "source": [
    "test_network = Graph(\"data/num_test.adjlist\")\n",
    "test_network.bfs(\"2\", \"11\")"
   ]
  },
  {
   "cell_type": "code",
   "execution_count": 213,
   "metadata": {},
   "outputs": [
    {
     "name": "stdout",
     "output_type": "stream",
     "text": [
      "DiGraph with 11 nodes and 10 edges\n"
     ]
    },
    {
     "data": {
      "text/plain": [
       "['2', '4']"
      ]
     },
     "execution_count": 213,
     "metadata": {},
     "output_type": "execute_result"
    }
   ],
   "source": [
    "test_network = Graph(\"data/num_test.adjlist\")\n",
    "test_network.bfs(\"2\", \"4\")"
   ]
  },
  {
   "cell_type": "code",
   "execution_count": 214,
   "metadata": {},
   "outputs": [
    {
     "name": "stdout",
     "output_type": "stream",
     "text": [
      "DiGraph with 11 nodes and 10 edges\n"
     ]
    },
    {
     "ename": "ValueError",
     "evalue": "End node None not found in graph",
     "output_type": "error",
     "traceback": [
      "\u001b[0;31m---------------------------------------------------------------------------\u001b[0m",
      "\u001b[0;31mValueError\u001b[0m                                Traceback (most recent call last)",
      "\u001b[1;32m/Users/cindybarrios/Desktop/BMI203_algorithms/HW2-BFS_CB/example.ipynb Cell 7\u001b[0m in \u001b[0;36m<cell line: 2>\u001b[0;34m()\u001b[0m\n\u001b[1;32m      <a href='vscode-notebook-cell:/Users/cindybarrios/Desktop/BMI203_algorithms/HW2-BFS_CB/example.ipynb#X34sZmlsZQ%3D%3D?line=0'>1</a>\u001b[0m test_network \u001b[39m=\u001b[39m Graph(\u001b[39m\"\u001b[39m\u001b[39mdata/num_test.adjlist\u001b[39m\u001b[39m\"\u001b[39m)\n\u001b[0;32m----> <a href='vscode-notebook-cell:/Users/cindybarrios/Desktop/BMI203_algorithms/HW2-BFS_CB/example.ipynb#X34sZmlsZQ%3D%3D?line=1'>2</a>\u001b[0m test_network\u001b[39m.\u001b[39;49mbfs(\u001b[39m\"\u001b[39;49m\u001b[39m2\u001b[39;49m\u001b[39m\"\u001b[39;49m, \u001b[39mNone\u001b[39;49;00m)\n",
      "File \u001b[0;32m~/Desktop/BMI203_algorithms/HW2-BFS_CB/search/graph.py:46\u001b[0m, in \u001b[0;36mGraph.bfs\u001b[0;34m(self, start, end)\u001b[0m\n\u001b[1;32m     43\u001b[0m     \u001b[39mraise\u001b[39;00m \u001b[39mValueError\u001b[39;00m(\u001b[39mf\u001b[39m\u001b[39m\"\u001b[39m\u001b[39mStart node \u001b[39m\u001b[39m{\u001b[39;00mstart\u001b[39m}\u001b[39;00m\u001b[39m not found in graph\u001b[39m\u001b[39m\"\u001b[39m)\n\u001b[1;32m     45\u001b[0m \u001b[39melif\u001b[39;00m end \u001b[39mnot\u001b[39;00m \u001b[39min\u001b[39;00m \u001b[39mself\u001b[39m\u001b[39m.\u001b[39mgraph\u001b[39m.\u001b[39mnodes():            \u001b[39m# if end node is not in graph\u001b[39;00m\n\u001b[0;32m---> 46\u001b[0m     \u001b[39mraise\u001b[39;00m \u001b[39mValueError\u001b[39;00m(\u001b[39mf\u001b[39m\u001b[39m\"\u001b[39m\u001b[39mEnd node \u001b[39m\u001b[39m{\u001b[39;00mend\u001b[39m}\u001b[39;00m\u001b[39m not found in graph\u001b[39m\u001b[39m\"\u001b[39m)\n\u001b[1;32m     48\u001b[0m \u001b[39melif\u001b[39;00m start \u001b[39m==\u001b[39m end \u001b[39mand\u001b[39;00m \u001b[39mself\u001b[39m\u001b[39m.\u001b[39mgraph\u001b[39m.\u001b[39mnodes():      \u001b[39m# if start node is the same as end node\u001b[39;00m\n\u001b[1;32m     49\u001b[0m     \u001b[39mraise\u001b[39;00m \u001b[39mValueError\u001b[39;00m(\u001b[39mf\u001b[39m\u001b[39m\"\u001b[39m\u001b[39mStart node \u001b[39m\u001b[39m{\u001b[39;00mstart\u001b[39m}\u001b[39;00m\u001b[39m is the same as end node \u001b[39m\u001b[39m{\u001b[39;00mend\u001b[39m}\u001b[39;00m\u001b[39m\"\u001b[39m)\n",
      "\u001b[0;31mValueError\u001b[0m: End node None not found in graph"
     ]
    }
   ],
   "source": [
    "test_network = Graph(\"data/num_test.adjlist\")\n",
    "test_network.bfs(\"2\", None)"
   ]
  },
  {
   "attachments": {},
   "cell_type": "markdown",
   "metadata": {},
   "source": [
    "## Testing Graph Class"
   ]
  },
  {
   "cell_type": "code",
   "execution_count": 199,
   "metadata": {},
   "outputs": [
    {
     "name": "stdout",
     "output_type": "stream",
     "text": [
      "DiGraph with 11 nodes and 10 edges\n"
     ]
    }
   ],
   "source": [
    "test_network = Graph(\"data/num_test.adjlist\")\n",
    "assert test_network.bfs(\"2\", \"11\") == ['2', '5', '5', '9', '9', '11']\n",
    "#assert test_network.bfs(\"2\", \"11\") == ['2', '5', '10', '11'], \"Error: within bfs should return 2, 5, 9, 11\"\n"
   ]
  },
  {
   "cell_type": "code",
   "execution_count": 200,
   "metadata": {},
   "outputs": [
    {
     "name": "stdout",
     "output_type": "stream",
     "text": [
      "DiGraph with 30 nodes and 64 edges\n"
     ]
    }
   ],
   "source": [
    "tiny_network = Graph(\"data/tiny_network.adjlist\")\n",
    "assert tiny_network.bfs(\"Atul Butte\",\"Marina Sirota\") == ['Atul Butte', '30944313', '30944313', 'Marina Sirota']\n",
    "#assert tiny_network.bfs(\"Atul Butte\",\"Marina Sirota\") == ['Atul Butte', '30944313', 'Marina Sirota'], \"Error: within bfs should return Atul Butte, 30944313, Marina Sirota\"\n"
   ]
  },
  {
   "cell_type": "code",
   "execution_count": 216,
   "metadata": {},
   "outputs": [
    {
     "data": {
      "text/plain": [
       "['2', '5', '5', '9', '9', '11']"
      ]
     },
     "execution_count": 216,
     "metadata": {},
     "output_type": "execute_result"
    }
   ],
   "source": []
  },
  {
   "cell_type": "code",
   "execution_count": 14,
   "metadata": {},
   "outputs": [
    {
     "data": {
      "image/png": "[encoded data removed]",
      "text/plain": [
       "<Figure size 432x288 with 1 Axes>"
      ]
     },
     "metadata": {},
     "output_type": "display_data"
    }
   ],
   "source": [
    "nx.draw(test_network.graph, with_labels=True)\n"
   ]
  },
  {
   "attachments": {},
   "cell_type": "markdown",
   "metadata": {},
   "source": [
    "# Testing the code\n"
   ]
  },
  {
   "cell_type": "code",
   "execution_count": 252,
   "metadata": {},
   "outputs": [],
   "source": [
    "import pytest"
   ]
  },
  {
   "cell_type": "code",
   "execution_count": 284,
   "metadata": {},
   "outputs": [],
   "source": [
    "\n",
    "def test_freebie_parser_1():\n",
    "    \"\"\"\n",
    "    This one is a freebie\n",
    "    DO NOT MODIFY THIS FUNCTION\n",
    "    \"\"\"\n",
    "    assert True\n",
    "\n",
    "\n",
    "def test_freebie_parser_2():\n",
    "    \"\"\"\n",
    "    This too is a freebie\n",
    "    DO NOT MODIFY THIS FUNCTION\n",
    "    \"\"\"\n",
    "    assert 1 != 2\n",
    "\n",
    "        \n",
    "def test_bfs(Graph):\n",
    "    \"\"\"\n",
    "    Write your unit test for your bft(Graph)\n",
    "    class here. You should generate an instance of\n",
    "    your Graph class and assert that it properly\n",
    "    reads in the example adj list.\n",
    "    \"\"\"\n",
    "    test_network = Graph(\"data/num_test.adjlist\")\n",
    "    #test_network.bfs(\"2\", \"11\")\n",
    "\n",
    "    assert test_network.bfs(\"2\", \"11\") == ['2', '5', '5', '9', '9', '11']\n",
    "\n",
    "    assert test_network.bfs(\"2\", \"11\") == ['2', '3', '4', '5', '6', '7', '8', '9', '10', '11'], \"Error: the path is incorrect\"\n",
    "\n",
    "\n",
    "def test_bfs(Graph):\n",
    "    \"\"\"\n",
    "    Write your unit test for your bft(Graph)\n",
    "    class here. You should generate an instance of\n",
    "    your Graph class and assert that it properly\n",
    "    reads in the example adj list. This test should check\n",
    "    for the case where there is no path between the start\n",
    "    and end nodes.\n",
    "    \"\"\"\n",
    "    test_network = Graph(\"data/num_test.adjlist\")\n",
    "    #test_network.bfs(\"3\", \"11\")\n",
    "    assert test_network.bfs(\"3\", \"11\") == None\n",
    "\n",
    "    assert test_network.bfs(\"3\", \"11\") == [], \"Error: this path should be empty\"\n",
    "\n",
    "    \n",
    "\n",
    "    \n",
    "\n"
   ]
  },
  {
   "cell_type": "code",
   "execution_count": null,
   "metadata": {},
   "outputs": [],
   "source": [
    "\n"
   ]
  },
  {
   "cell_type": "code",
   "execution_count": null,
   "metadata": {},
   "outputs": [],
   "source": []
  },
  {
   "cell_type": "code",
   "execution_count": null,
   "metadata": {},
   "outputs": [],
   "source": []
  },
  {
   "cell_type": "code",
   "execution_count": null,
   "metadata": {},
   "outputs": [],
   "source": [
    "class Graph:\n",
    "    \"\"\"\n",
    "    Class to contain a graph and your bfs function\n",
    "    \n",
    "    You may add any functions you deem necessary to the class\n",
    "    \"\"\"\n",
    "\n",
    "\n",
    "    def __init__(self, filename) -> None:\n",
    "\n",
    "        \"\"\"\n",
    "        Initialization of graph object \n",
    "        \"\"\"\n",
    "\n",
    "        self.graph = nx.read_adjlist(filename, create_using=nx.DiGraph, delimiter=\";\")\n",
    "        #print(self.graph)\n",
    "\n",
    "    def next_node(self, node, end=None):\n",
    "        \"\"\"\n",
    "        Find the next node in the graph\n",
    "        \"\"\"\n",
    "        if node == end:\n",
    "            return print(end)\n",
    "        else:\n",
    "            return self.graph.neighbors(node)\n",
    "\n",
    "\n",
    "    def bfs(self, start, end=None):\n",
    "        \"\"\"\n",
    "        A recursive function that performs a breadth first traversal and pathfinding on graph G\n",
    "        \n",
    "        ArithmeticError:\n",
    "\n",
    "        * If there's no end node input, return a list nodes with the order of BFS traversal\n",
    "        * If there is an end node input and a path exists, return a list of nodes with the order of the shortest path\n",
    "        * If there is an end node input and a path does not exist, return None\n",
    "        \"\"\"\n",
    "\n",
    "        # ArithmeticError:\n",
    "        if start not in self.graph.nodes():            # if start node is not in graph\n",
    "            raise ValueError(f\"Start node {start} not found in graph\")\n",
    "        \n",
    "        elif end not in self.graph.nodes():            # if end node is not in graph\n",
    "            raise ValueError(f\"End node {end} not found in graph\")\n",
    "\n",
    "        elif start == end and self.graph.nodes():      # if start node is the same as end node\n",
    "            raise ValueError(f\"Start node {start} is the same as end node {end}\")\n",
    "\n",
    "        \n",
    "        \"\"\"\n",
    "        Breath First Search - BFS Algorithm\n",
    "\n",
    "        Obectives: \n",
    "            To find the shortest path between two nodes in a graph. \n",
    "            To traverse a graph in a breadth first manner.\n",
    "\n",
    "        Algorithm:\n",
    "            1. Start at the root node (start node)\n",
    "            2. Explore all the neighbor nodes at the present depth\n",
    "            3. Move on to the nodes at the next depth level (next neighbor)\n",
    "            4. Repeat until the goal node is found or all nodes have been explored\n",
    "            5. If the goal node is never found, return failure (no path exists)\n",
    "        \"\"\"\n",
    "    \n",
    "        queue = [start]                                    # initialize queue with start node\n",
    "        visited = []                                       # initialize visited list\n",
    "        path={}                                            # initialize path dictionary     \n",
    "        path[start] = []                                   # add start node to path dictionary                \n",
    "\n",
    "        for neighbor in self.next_node(start, end):         # for each neighbor of node\n",
    "                    path[neighbor] = path[start] + [neighbor]   # add node to path list\n",
    "        \n",
    "        found = False\n",
    "\n",
    "        while queue:\n",
    "            node = queue.pop()                             # pop the first node in queue\n",
    "            if node not in visited:                         # if node is not visited\n",
    "                if node == end:\n",
    "                    found = True                                # if node is end node\n",
    "                    return path[node]                           # return path list\n",
    "\n",
    "                if node not in visited:                         # if node is not visited\n",
    "                    visited.append(node)       \n",
    "                                    # add node to visited list\n",
    "                    neighbors = self.next_node(node, end)\n",
    "                    for neighbor in neighbors:                  # for each neighbor of node\n",
    "                        path[neighbor] = path[node] + [node] + [neighbor] # add node to path list \n",
    "                        queue.append(neighbor)                  # add neighbors to queue\n",
    "\n",
    "        # bfs tranversal\n",
    "        if end is None:\n",
    "            return visited                      # if no end node, return visited list\n",
    "\n",
    "        if not found:\n",
    "            return None                     # if no path exists, return None\n",
    "\n",
    "\n",
    "\n"
   ]
  }
 ],
 "metadata": {
  "kernelspec": {
   "display_name": "BMI_203",
   "language": "python",
   "name": "bmi_203"
  },
  "language_info": {
   "codemirror_mode": {
    "name": "ipython",
    "version": 3
   },
   "file_extension": ".py",
   "mimetype": "text/x-python",
   "name": "python",
   "nbconvert_exporter": "python",
   "pygments_lexer": "ipython3",
   "version": "3.10.4"
  },
  "orig_nbformat": 4,
  "vscode": {
   "interpreter": {
    "hash": "82e6896aee57c57cbe65207ea7f65901d8a1970682558793252a30dab69b42e6"
   }
  }
 },
 "nbformat": 4,
 "nbformat_minor": 2
}
